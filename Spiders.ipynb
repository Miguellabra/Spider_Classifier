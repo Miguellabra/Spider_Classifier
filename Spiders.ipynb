{
  "nbformat": 4,
  "nbformat_minor": 0,
  "metadata": {
    "colab": {
      "provenance": [],
      "gpuType": "T4",
      "collapsed_sections": [
        "yD9s4jW0Km81"
      ]
    },
    "kernelspec": {
      "name": "python3",
      "display_name": "Python 3"
    },
    "language_info": {
      "name": "python"
    },
    "accelerator": "GPU"
  },
  "cells": [
    {
      "cell_type": "markdown",
      "source": [
        "# Libraries"
      ],
      "metadata": {
        "id": "n3jvbAAS3rEp"
      }
    },
    {
      "cell_type": "code",
      "source": [
        "from tensorflow import keras\n",
        "from keras import Sequential\n",
        "from keras.layers import Dense, Flatten, Input\n",
        "from tensorflow.keras.utils import to_categorical\n",
        "#from keras.utils.np_utils import to_categorical\n",
        "from keras.layers import Conv2D, Dropout, MaxPooling2D\n",
        "from keras.models import load_model\n",
        "from keras.preprocessing.image import ImageDataGenerator, img_to_array, array_to_img\n",
        "from keras.utils import to_categorical\n",
        "from tensorflow.keras import layers\n",
        "\n",
        "import zipfile\n",
        "import subprocess\n",
        "import pandas as pd\n",
        "import numpy as np\n",
        "import cv2\n",
        "import os"
      ],
      "metadata": {
        "id": "v0gqPtLmBzSc"
      },
      "execution_count": null,
      "outputs": []
    },
    {
      "cell_type": "markdown",
      "source": [
        "# Load the Data"
      ],
      "metadata": {
        "id": "5cGpozFF3llC"
      }
    },
    {
      "cell_type": "code",
      "execution_count": null,
      "metadata": {
        "id": "LXEDCJgJIgVy"
      },
      "outputs": [],
      "source": [
        "!pip install -U -q kaggle\n",
        "!mkdir -p ~/.kaggle\n",
        "from google.colab import files\n",
        "files.upload()"
      ]
    },
    {
      "cell_type": "code",
      "source": [
        "!cp kaggle.json ~/.kaggle/\n",
        "!kaggle datasets download -d gpiosenka/yikes-spiders-15-species"
      ],
      "metadata": {
        "colab": {
          "base_uri": "https://localhost:8080/"
        },
        "id": "6zXVHc0YQyts",
        "outputId": "c4dc44c7-4b30-47f7-ae68-afc832bbb982"
      },
      "execution_count": null,
      "outputs": [
        {
          "output_type": "stream",
          "name": "stdout",
          "text": [
            "Warning: Your Kaggle API key is readable by other users on this system! To fix this, you can run 'chmod 600 /root/.kaggle/kaggle.json'\n",
            "yikes-spiders-15-species.zip: Skipping, found more recently modified local copy (use --force to force download)\n"
          ]
        }
      ]
    },
    {
      "cell_type": "code",
      "source": [
        "zip_file = \"/content/yikes-spiders-15-species.zip\"\n",
        "destination_dir = \"/content/archive\"\n",
        "\n",
        "unzip_process = subprocess.Popen([\"unzip\", zip_file, \"-d\", destination_dir])\n",
        "\n",
        "unzip_process.wait()"
      ],
      "metadata": {
        "colab": {
          "base_uri": "https://localhost:8080/"
        },
        "id": "pY7HM4w6j8X0",
        "outputId": "87e6b4c0-e1e3-453f-d556-d8e4c479ab18"
      },
      "execution_count": null,
      "outputs": [
        {
          "output_type": "execute_result",
          "data": {
            "text/plain": [
              "1"
            ]
          },
          "metadata": {},
          "execution_count": 8
        }
      ]
    },
    {
      "cell_type": "markdown",
      "source": [
        "# Data Preprocessing"
      ],
      "metadata": {
        "id": "zUU4N5bx34hv"
      }
    },
    {
      "cell_type": "code",
      "source": [
        "folders = sorted(os.listdir(\"/content/archive/train/\"))\n",
        "folders"
      ],
      "metadata": {
        "id": "Wt9ej15EY5Gv",
        "colab": {
          "base_uri": "https://localhost:8080/"
        },
        "outputId": "95cdf4a4-e860-40cb-c415-5710c2c7ca15"
      },
      "execution_count": null,
      "outputs": [
        {
          "output_type": "execute_result",
          "data": {
            "text/plain": [
              "['Black Widow',\n",
              " 'Blue Tarantula',\n",
              " 'Bold Jumper',\n",
              " 'Brown Grass Spider',\n",
              " 'Brown Recluse Spider',\n",
              " 'Deinopis Spider',\n",
              " 'Golden Orb Weaver',\n",
              " 'Hobo Spider',\n",
              " 'Huntsman Spider',\n",
              " 'Ladybird Mimic Spider',\n",
              " 'Peacock Spider',\n",
              " 'Red Knee Tarantula',\n",
              " 'Spiny-backed Orb-weaver',\n",
              " 'White Kneed Tarantula',\n",
              " 'Yellow Garden Spider']"
            ]
          },
          "metadata": {},
          "execution_count": 9
        }
      ]
    },
    {
      "cell_type": "code",
      "source": [
        "# Classes\n",
        "c_spider = {\n",
        "    'Black Widow':0,\n",
        "    'Blue Tarantula':1,\n",
        "    'Bold Jumper':2,\n",
        "    'Brown Grass Spider':3,\n",
        "    'Brown Recluse Spider':4,\n",
        "    'Deinopis Spider':5,\n",
        "    'Golden Orb Weaver':6,\n",
        "    'Hobo Spider':7,\n",
        "    'Huntsman Spider':8,\n",
        "    'Ladybird Mimic Spider':9,\n",
        "    'Peacock Spider':10,\n",
        "    'Red Knee Tarantula':11,\n",
        "    'Spiny-backed Orb-weaver':12,\n",
        "    'White Kneed Tarantula':13,\n",
        "    'Yellow Garden Spider':14\n",
        "}\n",
        "\n",
        "#Hyperclasses     im=1, nim=0\n",
        "m_importance = {\n",
        "    'Black Widow':1,\n",
        "    'Blue Tarantula':0,\n",
        "    'Bold Jumper':0,\n",
        "    'Brown Grass Spider':0,\n",
        "    'Brown Recluse Spider':1,\n",
        "    'Deinopis Spider':0,\n",
        "    'Golden Orb Weaver':0,\n",
        "    'Hobo Spider':0,\n",
        "    'Huntsman Spider':0,\n",
        "    'Ladybird Mimic Spider':0,\n",
        "    'Peacock Spider':0,\n",
        "    'Red Knee Tarantula':0,\n",
        "    'Spiny-backed Orb-weaver':0,\n",
        "    'White Kneed Tarantula':0,\n",
        "    'Yellow Garden Spider':0\n",
        "}"
      ],
      "metadata": {
        "id": "p-rhNiQLYjNf"
      },
      "execution_count": null,
      "outputs": []
    },
    {
      "cell_type": "code",
      "source": [
        "ms = {\n",
        "    'Black Widow' : 0,\n",
        "    'Brown Recluse Spider' : 1\n",
        "}"
      ],
      "metadata": {
        "id": "LYD7J0Ne3v-Z"
      },
      "execution_count": null,
      "outputs": []
    },
    {
      "cell_type": "code",
      "source": [
        "keys_1 = list(m_importance)\n",
        "\n",
        "keys_2 = list(c_spider)"
      ],
      "metadata": {
        "id": "AxEYgBAMnUj6"
      },
      "execution_count": null,
      "outputs": []
    },
    {
      "cell_type": "code",
      "source": [
        "datagen = ImageDataGenerator(\n",
        "    rotation_range=60,\n",
        "    width_shift_range=0.2,\n",
        "    height_shift_range=0.2,\n",
        "    shear_range=0.2,\n",
        "    zoom_range=0.2,\n",
        "    horizontal_flip=True,\n",
        "    fill_mode='nearest'\n",
        ")"
      ],
      "metadata": {
        "id": "_tXVdIW7E-E5"
      },
      "execution_count": null,
      "outputs": []
    },
    {
      "cell_type": "code",
      "source": [
        "data_xtrain = []\n",
        "data_ytrain = []\n",
        "i=0\n",
        "\n",
        "for folder in folders:\n",
        "  if folder == 'Black Widow' or folder == 'Brown Recluse Spider':\n",
        "    for filename in os.listdir(f\"/content/archive/train/{folder}\"):\n",
        "        if filename.endswith(\"jpg\"):\n",
        "            pic = cv2.imread(f\"/content/archive/train/{folder}/{filename}\")\n",
        "            pic = cv2.resize(pic, (32,32))\n",
        "\n",
        "            data_ytrain.append(1)\n",
        "            data_xtrain.append(pic)\n",
        "\n",
        "            x = img_to_array(pic)\n",
        "            x = x.reshape((1,) + x.shape)\n",
        "            for batch in datagen.flow(x, batch_size=1):\n",
        "                augmented_image = array_to_img(batch[0])\n",
        "                data_xtrain.append(img_to_array(augmented_image))\n",
        "                data_ytrain.append(1)\n",
        "                i += 1\n",
        "                if i >= 3:\n",
        "                    break\n",
        "\n",
        "  else:\n",
        "    for filename in os.listdir(f\"/content/archive/train/{folder}\"):\n",
        "        if filename.endswith(\"jpg\"):\n",
        "            pic = cv2.imread(f\"/content/archive/train/{folder}/{filename}\")\n",
        "            pic = cv2.resize(pic, (32,32))\n",
        "            data_ytrain.append(0)\n",
        "            data_xtrain.append(pic)\n",
        "\n",
        "            x = img_to_array(pic)\n",
        "            x = x.reshape((1,) + x.shape)\n",
        "            for batch in datagen.flow(x, batch_size=1):\n",
        "                augmented_image = array_to_img(batch[0])\n",
        "                data_xtrain.append(img_to_array(augmented_image))\n",
        "                data_ytrain.append(0)\n",
        "                i += 1\n",
        "                if i >= 3:\n",
        "                    break\n",
        "\n",
        "\n",
        "X_train = np.array(data_xtrain)\n",
        "\n",
        "y_train = np.array(data_ytrain)\n",
        "\n",
        "y_train = to_categorical(y_train)\n",
        "\n",
        "print(X_train.shape)\n",
        "print(y_train.shape)"
      ],
      "metadata": {
        "colab": {
          "base_uri": "https://localhost:8080/"
        },
        "id": "QPS0A93suEoC",
        "outputId": "13b9f795-0cde-46ce-f2e6-21b6e7dba705"
      },
      "execution_count": null,
      "outputs": [
        {
          "output_type": "stream",
          "name": "stdout",
          "text": [
            "(4372, 32, 32, 3)\n",
            "(4372, 2)\n"
          ]
        }
      ]
    },
    {
      "cell_type": "code",
      "source": [
        "X_train = X_train / 255"
      ],
      "metadata": {
        "id": "aWMJDbtIRIZH"
      },
      "execution_count": null,
      "outputs": []
    },
    {
      "cell_type": "code",
      "source": [
        "data_xtest = []\n",
        "data_ytest = []\n",
        "\n",
        "for folder in folders:\n",
        "  if folder == 'Black Widow' or folder == 'Brown Recluse Spider':\n",
        "    for filename in os.listdir(f\"/content/archive/test/{folder}\"):\n",
        "        if filename.endswith(\"jpg\"):\n",
        "            pic = cv2.imread(f\"/content/archive/test/{folder}/{filename}\")\n",
        "            pic = cv2.resize(pic, (32,32))\n",
        "            data_ytest.append(1)\n",
        "            data_xtest.append(pic)\n",
        "\n",
        "            x = img_to_array(pic)\n",
        "            x = x.reshape((1,) + x.shape)\n",
        "            for batch in datagen.flow(x, batch_size=1):\n",
        "                augmented_image = array_to_img(batch[0])\n",
        "                data_xtest.append(img_to_array(augmented_image))\n",
        "                data_ytest.append(1)\n",
        "                i += 1\n",
        "                if i >= 3:\n",
        "                    break\n",
        "  else:\n",
        "    for filename in os.listdir(f\"/content/archive/test/{folder}\"):\n",
        "        if filename.endswith(\"jpg\"):\n",
        "            pic = cv2.imread(f\"/content/archive/test/{folder}/{filename}\")\n",
        "            pic = cv2.resize(pic, (32,32))\n",
        "            data_ytest.append(0)\n",
        "            data_xtest.append(pic)\n",
        "\n",
        "            x = img_to_array(pic)\n",
        "            x = x.reshape((1,) + x.shape)\n",
        "            for batch in datagen.flow(x, batch_size=1):\n",
        "                augmented_image = array_to_img(batch[0])\n",
        "                data_xtest.append(img_to_array(augmented_image))\n",
        "                data_ytest.append(0)\n",
        "                i += 1\n",
        "                if i >= 3:\n",
        "                    break\n",
        "\n",
        "X_test = np.array(data_xtest)\n",
        "\n",
        "y_test = np.array(data_ytest)\n",
        "\n",
        "y_test = to_categorical(y_test)\n",
        "\n",
        "print(X_test.shape)\n",
        "print(y_test.shape)"
      ],
      "metadata": {
        "colab": {
          "base_uri": "https://localhost:8080/"
        },
        "id": "Bljb6KOWz7td",
        "outputId": "339d5e70-21c4-4eb3-e076-f2de617c2d3a"
      },
      "execution_count": null,
      "outputs": [
        {
          "output_type": "stream",
          "name": "stdout",
          "text": [
            "(150, 32, 32, 3)\n",
            "(150, 2)\n"
          ]
        }
      ]
    },
    {
      "cell_type": "code",
      "source": [
        "X_test = X_test / 255"
      ],
      "metadata": {
        "id": "q_s0rK0ogaWt"
      },
      "execution_count": null,
      "outputs": []
    },
    {
      "cell_type": "code",
      "source": [
        "data_xvalid = []\n",
        "data_yvalid = []\n",
        "\n",
        "for folder in folders:\n",
        "  if folder == 'Black Widow' or folder == 'Brown Recluse Spider':\n",
        "    for filename in os.listdir(f\"/content/archive/valid/{folder}\"):\n",
        "        if filename.endswith(\"jpg\"):\n",
        "            pic = cv2.imread(f\"/content/archive/valid/{folder}/{filename}\")\n",
        "            pic = cv2.resize(pic, (32,32))\n",
        "            data_yvalid.append(1)\n",
        "            data_xvalid.append(pic)\n",
        "  else:\n",
        "    for filename in os.listdir(f\"/content/archive/valid/{folder}\"):\n",
        "        if filename.endswith(\"jpg\"):\n",
        "            pic = cv2.imread(f\"/content/archive/valid/{folder}/{filename}\")\n",
        "            pic = cv2.resize(pic, (32,32))\n",
        "            data_yvalid.append(0)\n",
        "            data_xvalid.append(pic)\n",
        "\n",
        "X_valid = np.array(data_xvalid)\n",
        "\n",
        "y_valid = np.array(data_yvalid)\n",
        "\n",
        "y_valid = to_categorical(y_valid)\n",
        "\n",
        "print(X_valid.shape)\n",
        "print(y_valid.shape)"
      ],
      "metadata": {
        "colab": {
          "base_uri": "https://localhost:8080/"
        },
        "id": "yclqeo3-z7qg",
        "outputId": "3395becb-6427-48bc-d799-b36e10ac208e"
      },
      "execution_count": null,
      "outputs": [
        {
          "output_type": "stream",
          "name": "stdout",
          "text": [
            "(75, 32, 32, 3)\n",
            "(75, 2)\n"
          ]
        }
      ]
    },
    {
      "cell_type": "markdown",
      "source": [
        "# Models"
      ],
      "metadata": {
        "id": "lr6R-SRv4CnR"
      }
    },
    {
      "cell_type": "code",
      "source": [
        "!pip install keras"
      ],
      "metadata": {
        "colab": {
          "base_uri": "https://localhost:8080/"
        },
        "id": "s56AXn64jqGO",
        "outputId": "1edc809f-e126-4132-9414-023befb53b5f"
      },
      "execution_count": null,
      "outputs": [
        {
          "output_type": "stream",
          "name": "stdout",
          "text": [
            "Requirement already satisfied: keras in /usr/local/lib/python3.10/dist-packages (2.14.0)\n"
          ]
        }
      ]
    },
    {
      "cell_type": "code",
      "source": [
        "img_height = 32\n",
        "img_width = 32\n",
        "data_augmentation = keras.Sequential([\n",
        "    layers.experimental.preprocessing.RandomFlip(\"horizontal\",\n",
        "                                                 input_shape=(img_height,img_width,3)),\n",
        "    layers.experimental.preprocessing.RandomRotation(0.1),\n",
        "    layers.experimental.preprocessing.RandomZoom(0.1),\n",
        "])"
      ],
      "metadata": {
        "id": "YOkURwGWjCOi"
      },
      "execution_count": null,
      "outputs": []
    },
    {
      "cell_type": "code",
      "source": [
        "model_00 = Sequential()\n",
        "model_00.add(data_augmentation)\n",
        "model_00.add(Conv2D(32, (3,3), activation=\"relu\", padding=\"same\", input_shape=(32,32,3)))\n",
        "model_00.add(Conv2D(32, (3,3), activation=\"relu\", padding=\"same\"))\n",
        "model_00.add(MaxPooling2D((2,2)))\n",
        "model_00.add(Dropout(0.25))\n",
        "\n",
        "model_00.add(Conv2D(64, (3,3), activation=\"relu\", padding=\"same\"))\n",
        "model_00.add(Conv2D(64, (3,3), activation=\"relu\", padding=\"same\"))\n",
        "model_00.add(MaxPooling2D((2,2)))\n",
        "model_00.add(Dropout(0.50))\n",
        "\n",
        "model_00.add(Flatten())\n",
        "model_00.add(Dense(128, activation='relu'))\n",
        "model_00.add(Dense(2, activation='softmax'))\n",
        "\n",
        "model_00.compile(optimizer='Adamax', loss='categorical_crossentropy', metrics=['accuracy'])\n",
        "historial = model_00.fit(X_train, y_train, epochs=55, batch_size=50, validation_data=(X_test,y_test))"
      ],
      "metadata": {
        "colab": {
          "base_uri": "https://localhost:8080/"
        },
        "id": "-3lPdWfjzS1p",
        "outputId": "aa48ff7c-efa0-4bc7-84c9-05d55575737a"
      },
      "execution_count": null,
      "outputs": [
        {
          "output_type": "stream",
          "name": "stdout",
          "text": [
            "Epoch 1/55\n",
            "88/88 [==============================] - 3s 12ms/step - loss: 0.3768 - accuracy: 0.8769 - val_loss: 0.3917 - val_accuracy: 0.8667\n",
            "Epoch 2/55\n",
            "88/88 [==============================] - 1s 8ms/step - loss: 0.3240 - accuracy: 0.8797 - val_loss: 0.3564 - val_accuracy: 0.8667\n",
            "Epoch 3/55\n",
            "88/88 [==============================] - 1s 14ms/step - loss: 0.3159 - accuracy: 0.8797 - val_loss: 0.3709 - val_accuracy: 0.8667\n",
            "Epoch 4/55\n",
            "88/88 [==============================] - 1s 15ms/step - loss: 0.3138 - accuracy: 0.8797 - val_loss: 0.3605 - val_accuracy: 0.8667\n",
            "Epoch 5/55\n",
            "88/88 [==============================] - 1s 13ms/step - loss: 0.3144 - accuracy: 0.8797 - val_loss: 0.3680 - val_accuracy: 0.8667\n",
            "Epoch 6/55\n",
            "88/88 [==============================] - 1s 9ms/step - loss: 0.3121 - accuracy: 0.8797 - val_loss: 0.3740 - val_accuracy: 0.8667\n",
            "Epoch 7/55\n",
            "88/88 [==============================] - 1s 8ms/step - loss: 0.3144 - accuracy: 0.8797 - val_loss: 0.3612 - val_accuracy: 0.8667\n",
            "Epoch 8/55\n",
            "88/88 [==============================] - 1s 8ms/step - loss: 0.3077 - accuracy: 0.8797 - val_loss: 0.3627 - val_accuracy: 0.8667\n",
            "Epoch 9/55\n",
            "88/88 [==============================] - 1s 12ms/step - loss: 0.3021 - accuracy: 0.8797 - val_loss: 0.3724 - val_accuracy: 0.8667\n",
            "Epoch 10/55\n",
            "88/88 [==============================] - 1s 9ms/step - loss: 0.3028 - accuracy: 0.8797 - val_loss: 0.3898 - val_accuracy: 0.8667\n",
            "Epoch 11/55\n",
            "88/88 [==============================] - 1s 9ms/step - loss: 0.3024 - accuracy: 0.8799 - val_loss: 0.3517 - val_accuracy: 0.8667\n",
            "Epoch 12/55\n",
            "88/88 [==============================] - 1s 9ms/step - loss: 0.3016 - accuracy: 0.8801 - val_loss: 0.3445 - val_accuracy: 0.8667\n",
            "Epoch 13/55\n",
            "88/88 [==============================] - 1s 8ms/step - loss: 0.2983 - accuracy: 0.8795 - val_loss: 0.3478 - val_accuracy: 0.8667\n",
            "Epoch 14/55\n",
            "88/88 [==============================] - 1s 8ms/step - loss: 0.2958 - accuracy: 0.8804 - val_loss: 0.3643 - val_accuracy: 0.8667\n",
            "Epoch 15/55\n",
            "88/88 [==============================] - 1s 8ms/step - loss: 0.2949 - accuracy: 0.8813 - val_loss: 0.3352 - val_accuracy: 0.8600\n",
            "Epoch 16/55\n",
            "88/88 [==============================] - 1s 8ms/step - loss: 0.2870 - accuracy: 0.8824 - val_loss: 0.3351 - val_accuracy: 0.8667\n",
            "Epoch 17/55\n",
            "88/88 [==============================] - 1s 8ms/step - loss: 0.2932 - accuracy: 0.8820 - val_loss: 0.3270 - val_accuracy: 0.8600\n",
            "Epoch 18/55\n",
            "88/88 [==============================] - 1s 10ms/step - loss: 0.2847 - accuracy: 0.8836 - val_loss: 0.3392 - val_accuracy: 0.8600\n",
            "Epoch 19/55\n",
            "88/88 [==============================] - 1s 10ms/step - loss: 0.2903 - accuracy: 0.8829 - val_loss: 0.3184 - val_accuracy: 0.8600\n",
            "Epoch 20/55\n",
            "88/88 [==============================] - 1s 11ms/step - loss: 0.2860 - accuracy: 0.8820 - val_loss: 0.3414 - val_accuracy: 0.8667\n",
            "Epoch 21/55\n",
            "88/88 [==============================] - 1s 8ms/step - loss: 0.2801 - accuracy: 0.8856 - val_loss: 0.3039 - val_accuracy: 0.8600\n",
            "Epoch 22/55\n",
            "88/88 [==============================] - 1s 12ms/step - loss: 0.2771 - accuracy: 0.8852 - val_loss: 0.3116 - val_accuracy: 0.8667\n",
            "Epoch 23/55\n",
            "88/88 [==============================] - 1s 11ms/step - loss: 0.2767 - accuracy: 0.8863 - val_loss: 0.3360 - val_accuracy: 0.8600\n",
            "Epoch 24/55\n",
            "88/88 [==============================] - 1s 8ms/step - loss: 0.2712 - accuracy: 0.8870 - val_loss: 0.3222 - val_accuracy: 0.8667\n",
            "Epoch 25/55\n",
            "88/88 [==============================] - 1s 8ms/step - loss: 0.2653 - accuracy: 0.8866 - val_loss: 0.3617 - val_accuracy: 0.8667\n",
            "Epoch 26/55\n",
            "88/88 [==============================] - 1s 8ms/step - loss: 0.2669 - accuracy: 0.8854 - val_loss: 0.3520 - val_accuracy: 0.8667\n",
            "Epoch 27/55\n",
            "88/88 [==============================] - 1s 8ms/step - loss: 0.2709 - accuracy: 0.8836 - val_loss: 0.3066 - val_accuracy: 0.8733\n",
            "Epoch 28/55\n",
            "88/88 [==============================] - 1s 8ms/step - loss: 0.2671 - accuracy: 0.8856 - val_loss: 0.3028 - val_accuracy: 0.8733\n",
            "Epoch 29/55\n",
            "88/88 [==============================] - 1s 8ms/step - loss: 0.2596 - accuracy: 0.8886 - val_loss: 0.3091 - val_accuracy: 0.8533\n",
            "Epoch 30/55\n",
            "88/88 [==============================] - 1s 8ms/step - loss: 0.2529 - accuracy: 0.8952 - val_loss: 0.2892 - val_accuracy: 0.8600\n",
            "Epoch 31/55\n",
            "88/88 [==============================] - 1s 8ms/step - loss: 0.2544 - accuracy: 0.8920 - val_loss: 0.2873 - val_accuracy: 0.8600\n",
            "Epoch 32/55\n",
            "88/88 [==============================] - 1s 8ms/step - loss: 0.2524 - accuracy: 0.8946 - val_loss: 0.3531 - val_accuracy: 0.8600\n",
            "Epoch 33/55\n",
            "88/88 [==============================] - 1s 9ms/step - loss: 0.2475 - accuracy: 0.8932 - val_loss: 0.2980 - val_accuracy: 0.8600\n",
            "Epoch 34/55\n",
            "88/88 [==============================] - 1s 11ms/step - loss: 0.2513 - accuracy: 0.8914 - val_loss: 0.3121 - val_accuracy: 0.8667\n",
            "Epoch 35/55\n",
            "88/88 [==============================] - 1s 10ms/step - loss: 0.2496 - accuracy: 0.8952 - val_loss: 0.2741 - val_accuracy: 0.8733\n",
            "Epoch 36/55\n",
            "88/88 [==============================] - 1s 9ms/step - loss: 0.2502 - accuracy: 0.8964 - val_loss: 0.2830 - val_accuracy: 0.8667\n",
            "Epoch 37/55\n",
            "88/88 [==============================] - 1s 8ms/step - loss: 0.2507 - accuracy: 0.8982 - val_loss: 0.2764 - val_accuracy: 0.8733\n",
            "Epoch 38/55\n",
            "88/88 [==============================] - 1s 8ms/step - loss: 0.2426 - accuracy: 0.8973 - val_loss: 0.2998 - val_accuracy: 0.8667\n",
            "Epoch 39/55\n",
            "88/88 [==============================] - 1s 8ms/step - loss: 0.2423 - accuracy: 0.8957 - val_loss: 0.2837 - val_accuracy: 0.8667\n",
            "Epoch 40/55\n",
            "88/88 [==============================] - 1s 9ms/step - loss: 0.2344 - accuracy: 0.8973 - val_loss: 0.2869 - val_accuracy: 0.8533\n",
            "Epoch 41/55\n",
            "88/88 [==============================] - 1s 9ms/step - loss: 0.2456 - accuracy: 0.8980 - val_loss: 0.2894 - val_accuracy: 0.8667\n",
            "Epoch 42/55\n",
            "88/88 [==============================] - 1s 8ms/step - loss: 0.2363 - accuracy: 0.8982 - val_loss: 0.2628 - val_accuracy: 0.8733\n",
            "Epoch 43/55\n",
            "88/88 [==============================] - 1s 9ms/step - loss: 0.2331 - accuracy: 0.9010 - val_loss: 0.3093 - val_accuracy: 0.8667\n",
            "Epoch 44/55\n",
            "88/88 [==============================] - 1s 8ms/step - loss: 0.2307 - accuracy: 0.9065 - val_loss: 0.2915 - val_accuracy: 0.8800\n",
            "Epoch 45/55\n",
            "88/88 [==============================] - 1s 8ms/step - loss: 0.2333 - accuracy: 0.9000 - val_loss: 0.2933 - val_accuracy: 0.8733\n",
            "Epoch 46/55\n",
            "88/88 [==============================] - 1s 8ms/step - loss: 0.2277 - accuracy: 0.9044 - val_loss: 0.3114 - val_accuracy: 0.8733\n",
            "Epoch 47/55\n",
            "88/88 [==============================] - 1s 8ms/step - loss: 0.2221 - accuracy: 0.9055 - val_loss: 0.2808 - val_accuracy: 0.8600\n",
            "Epoch 48/55\n",
            "88/88 [==============================] - 1s 8ms/step - loss: 0.2248 - accuracy: 0.9046 - val_loss: 0.2777 - val_accuracy: 0.8733\n",
            "Epoch 49/55\n",
            "88/88 [==============================] - 1s 8ms/step - loss: 0.2202 - accuracy: 0.9060 - val_loss: 0.2762 - val_accuracy: 0.8733\n",
            "Epoch 50/55\n",
            "88/88 [==============================] - 1s 11ms/step - loss: 0.2285 - accuracy: 0.9010 - val_loss: 0.2650 - val_accuracy: 0.8867\n",
            "Epoch 51/55\n",
            "88/88 [==============================] - 1s 11ms/step - loss: 0.2282 - accuracy: 0.9035 - val_loss: 0.2972 - val_accuracy: 0.8867\n",
            "Epoch 52/55\n",
            "88/88 [==============================] - 1s 10ms/step - loss: 0.2167 - accuracy: 0.9067 - val_loss: 0.2635 - val_accuracy: 0.8667\n",
            "Epoch 53/55\n",
            "88/88 [==============================] - 1s 8ms/step - loss: 0.2189 - accuracy: 0.9058 - val_loss: 0.2935 - val_accuracy: 0.8667\n",
            "Epoch 54/55\n",
            "88/88 [==============================] - 1s 8ms/step - loss: 0.2137 - accuracy: 0.9081 - val_loss: 0.2615 - val_accuracy: 0.8867\n",
            "Epoch 55/55\n",
            "88/88 [==============================] - 1s 8ms/step - loss: 0.2202 - accuracy: 0.9081 - val_loss: 0.2528 - val_accuracy: 0.9000\n"
          ]
        }
      ]
    },
    {
      "cell_type": "code",
      "source": [
        "model_00.summary()"
      ],
      "metadata": {
        "colab": {
          "base_uri": "https://localhost:8080/"
        },
        "id": "CMbzGFwtziXJ",
        "outputId": "8162293e-066e-4603-ac4e-b2eeb442c494"
      },
      "execution_count": null,
      "outputs": [
        {
          "output_type": "stream",
          "name": "stdout",
          "text": [
            "Model: \"sequential_3\"\n",
            "_________________________________________________________________\n",
            " Layer (type)                Output Shape              Param #   \n",
            "=================================================================\n",
            " sequential (Sequential)     (None, 32, 32, 3)         0         \n",
            "                                                                 \n",
            " conv2d_10 (Conv2D)          (None, 32, 32, 32)        896       \n",
            "                                                                 \n",
            " conv2d_11 (Conv2D)          (None, 32, 32, 32)        9248      \n",
            "                                                                 \n",
            " max_pooling2d_4 (MaxPoolin  (None, 16, 16, 32)        0         \n",
            " g2D)                                                            \n",
            "                                                                 \n",
            " dropout_8 (Dropout)         (None, 16, 16, 32)        0         \n",
            "                                                                 \n",
            " conv2d_12 (Conv2D)          (None, 16, 16, 64)        18496     \n",
            "                                                                 \n",
            " conv2d_13 (Conv2D)          (None, 16, 16, 64)        36928     \n",
            "                                                                 \n",
            " max_pooling2d_5 (MaxPoolin  (None, 8, 8, 64)          0         \n",
            " g2D)                                                            \n",
            "                                                                 \n",
            " dropout_9 (Dropout)         (None, 8, 8, 64)          0         \n",
            "                                                                 \n",
            " flatten_2 (Flatten)         (None, 4096)              0         \n",
            "                                                                 \n",
            " dense_4 (Dense)             (None, 128)               524416    \n",
            "                                                                 \n",
            " dense_5 (Dense)             (None, 2)                 258       \n",
            "                                                                 \n",
            "=================================================================\n",
            "Total params: 590242 (2.25 MB)\n",
            "Trainable params: 590242 (2.25 MB)\n",
            "Non-trainable params: 0 (0.00 Byte)\n",
            "_________________________________________________________________\n"
          ]
        }
      ]
    },
    {
      "cell_type": "code",
      "source": [
        "model_00.save('web_9090.h5')"
      ],
      "metadata": {
        "colab": {
          "base_uri": "https://localhost:8080/"
        },
        "id": "D3tpxGhXz9RO",
        "outputId": "46b0822e-e122-48ab-9521-d5c0682e21a8"
      },
      "execution_count": null,
      "outputs": [
        {
          "output_type": "stream",
          "name": "stderr",
          "text": [
            "/usr/local/lib/python3.10/dist-packages/keras/src/engine/training.py:3079: UserWarning: You are saving your model as an HDF5 file via `model.save()`. This file format is considered legacy. We recommend using instead the native Keras format, e.g. `model.save('my_model.keras')`.\n",
            "  saving_api.save_model(\n"
          ]
        }
      ]
    },
    {
      "cell_type": "code",
      "source": [
        "web = keras.models.load_model(\"web_9090.h5\")"
      ],
      "metadata": {
        "id": "IubuzwBK0H9X"
      },
      "execution_count": null,
      "outputs": []
    },
    {
      "cell_type": "code",
      "source": [
        "dickeys = ['non-medically significant','medically significant']"
      ],
      "metadata": {
        "id": "7-LK1Bw61OFw"
      },
      "execution_count": null,
      "outputs": []
    },
    {
      "cell_type": "code",
      "source": [
        "def PredIm(image_name):\n",
        "  image = cv2.imread(image_name)\n",
        "  image = cv2.resize(image, (32,32))\n",
        "  image = np.expand_dims(image,0)\n",
        "  return print(\"Bites from this spider species are considered\", dickeys[int(np.argmax(web(image),1))])"
      ],
      "metadata": {
        "id": "_GR479Oq0H3Z"
      },
      "execution_count": null,
      "outputs": []
    },
    {
      "cell_type": "code",
      "source": [
        "PredIm('/content/archive/valid/Black Widow/1.jpg')"
      ],
      "metadata": {
        "colab": {
          "base_uri": "https://localhost:8080/"
        },
        "id": "8mXaG1O_0HsD",
        "outputId": "12865bf1-f0c1-4d2c-c0ec-08f13122c2eb"
      },
      "execution_count": null,
      "outputs": [
        {
          "output_type": "stream",
          "name": "stdout",
          "text": [
            "Bites from this spider species are considered non-medically significant\n"
          ]
        }
      ]
    },
    {
      "cell_type": "markdown",
      "source": [
        "# Alternative Aproaches"
      ],
      "metadata": {
        "id": "yD9s4jW0Km81"
      }
    },
    {
      "cell_type": "code",
      "source": [
        "model_00 = Sequential()\n",
        "model_00.add(data_augmentation)\n",
        "model_00.add(Conv2D(32, (3,3), activation=\"relu\", padding=\"same\", input_shape=(32,32,3)))\n",
        "model_00.add(Conv2D(32, (3,3), activation=\"relu\", padding=\"same\"))\n",
        "model_00.add(MaxPooling2D((2,2)))\n",
        "model_00.add(Dropout(0.25))\n",
        "\n",
        "model_00.add(Conv2D(64, (3,3), activation=\"relu\", padding=\"same\"))\n",
        "model_00.add(Dropout(0.25))\n",
        "\n",
        "model_00.add(Conv2D(128, (3,3), activation=\"relu\", padding=\"same\"))\n",
        "model_00.add(Conv2D(256, (3,3), activation=\"relu\", padding=\"same\"))\n",
        "model_00.add(MaxPooling2D((2,2)))\n",
        "model_00.add(Dropout(0.25))\n",
        "\n",
        "model_00.add(Flatten())\n",
        "model_00.add(Dense(512, activation='relu'))\n",
        "model_00.add(Dropout(0.25))\n",
        "model_00.add(Dense(2, activation='softmax'))\n",
        "\n",
        "model_00.compile(optimizer='Adamax', loss='categorical_crossentropy', metrics=['accuracy'])\n",
        "historial = model_00.fit(X_train, y_train, epochs=55, batch_size=50, validation_data=(X_test,y_test))"
      ],
      "metadata": {
        "colab": {
          "base_uri": "https://localhost:8080/"
        },
        "id": "mqApMR2Wz7mg",
        "outputId": "33c7afcd-77ec-49ef-9f96-5088456101b8"
      },
      "execution_count": null,
      "outputs": [
        {
          "output_type": "stream",
          "name": "stdout",
          "text": [
            "Epoch 1/55\n",
            "88/88 [==============================] - 4s 18ms/step - loss: 0.3962 - accuracy: 0.8733 - val_loss: 0.4479 - val_accuracy: 0.8667\n",
            "Epoch 2/55\n",
            "88/88 [==============================] - 1s 15ms/step - loss: 0.3203 - accuracy: 0.8797 - val_loss: 0.4047 - val_accuracy: 0.8667\n",
            "Epoch 3/55\n",
            "88/88 [==============================] - 1s 15ms/step - loss: 0.3131 - accuracy: 0.8797 - val_loss: 0.3949 - val_accuracy: 0.8667\n",
            "Epoch 4/55\n",
            "88/88 [==============================] - 2s 17ms/step - loss: 0.3161 - accuracy: 0.8797 - val_loss: 0.3924 - val_accuracy: 0.8667\n",
            "Epoch 5/55\n",
            "88/88 [==============================] - 2s 21ms/step - loss: 0.3111 - accuracy: 0.8797 - val_loss: 0.3944 - val_accuracy: 0.8667\n",
            "Epoch 6/55\n",
            "88/88 [==============================] - 3s 30ms/step - loss: 0.3099 - accuracy: 0.8797 - val_loss: 0.3966 - val_accuracy: 0.8667\n",
            "Epoch 7/55\n",
            "88/88 [==============================] - 2s 23ms/step - loss: 0.3077 - accuracy: 0.8797 - val_loss: 0.3855 - val_accuracy: 0.8667\n",
            "Epoch 8/55\n",
            "88/88 [==============================] - 2s 21ms/step - loss: 0.3069 - accuracy: 0.8797 - val_loss: 0.4050 - val_accuracy: 0.8667\n",
            "Epoch 9/55\n",
            "88/88 [==============================] - 2s 19ms/step - loss: 0.3068 - accuracy: 0.8797 - val_loss: 0.3891 - val_accuracy: 0.8667\n",
            "Epoch 10/55\n",
            "88/88 [==============================] - 1s 15ms/step - loss: 0.3027 - accuracy: 0.8797 - val_loss: 0.3529 - val_accuracy: 0.8667\n",
            "Epoch 11/55\n",
            "88/88 [==============================] - 1s 15ms/step - loss: 0.2971 - accuracy: 0.8797 - val_loss: 0.3864 - val_accuracy: 0.8667\n",
            "Epoch 12/55\n",
            "88/88 [==============================] - 1s 15ms/step - loss: 0.3002 - accuracy: 0.8797 - val_loss: 0.3421 - val_accuracy: 0.8667\n",
            "Epoch 13/55\n",
            "88/88 [==============================] - 1s 16ms/step - loss: 0.2953 - accuracy: 0.8797 - val_loss: 0.3312 - val_accuracy: 0.8667\n",
            "Epoch 14/55\n",
            "88/88 [==============================] - 2s 17ms/step - loss: 0.2950 - accuracy: 0.8799 - val_loss: 0.3283 - val_accuracy: 0.8667\n",
            "Epoch 15/55\n",
            "88/88 [==============================] - 2s 17ms/step - loss: 0.2879 - accuracy: 0.8820 - val_loss: 0.3187 - val_accuracy: 0.8667\n",
            "Epoch 16/55\n",
            "88/88 [==============================] - 1s 15ms/step - loss: 0.2895 - accuracy: 0.8827 - val_loss: 0.3274 - val_accuracy: 0.8667\n",
            "Epoch 17/55\n",
            "88/88 [==============================] - 1s 15ms/step - loss: 0.2904 - accuracy: 0.8829 - val_loss: 0.3904 - val_accuracy: 0.8667\n",
            "Epoch 18/55\n",
            "88/88 [==============================] - 1s 15ms/step - loss: 0.2812 - accuracy: 0.8847 - val_loss: 0.3054 - val_accuracy: 0.8667\n",
            "Epoch 19/55\n",
            "88/88 [==============================] - 1s 15ms/step - loss: 0.2808 - accuracy: 0.8870 - val_loss: 0.3079 - val_accuracy: 0.8667\n",
            "Epoch 20/55\n",
            "88/88 [==============================] - 1s 15ms/step - loss: 0.2793 - accuracy: 0.8861 - val_loss: 0.3621 - val_accuracy: 0.8667\n",
            "Epoch 21/55\n",
            "88/88 [==============================] - 1s 15ms/step - loss: 0.2703 - accuracy: 0.8891 - val_loss: 0.3405 - val_accuracy: 0.8667\n",
            "Epoch 22/55\n",
            "88/88 [==============================] - 1s 16ms/step - loss: 0.2762 - accuracy: 0.8918 - val_loss: 0.2906 - val_accuracy: 0.8600\n",
            "Epoch 23/55\n",
            "88/88 [==============================] - 2s 19ms/step - loss: 0.2673 - accuracy: 0.8898 - val_loss: 0.2837 - val_accuracy: 0.8800\n",
            "Epoch 24/55\n",
            "88/88 [==============================] - 2s 17ms/step - loss: 0.2643 - accuracy: 0.8911 - val_loss: 0.2895 - val_accuracy: 0.8667\n",
            "Epoch 25/55\n",
            "88/88 [==============================] - 1s 15ms/step - loss: 0.2647 - accuracy: 0.8916 - val_loss: 0.2752 - val_accuracy: 0.8667\n",
            "Epoch 26/55\n",
            "88/88 [==============================] - 1s 15ms/step - loss: 0.2613 - accuracy: 0.8936 - val_loss: 0.2989 - val_accuracy: 0.8733\n",
            "Epoch 27/55\n",
            "88/88 [==============================] - 1s 15ms/step - loss: 0.2557 - accuracy: 0.8948 - val_loss: 0.3121 - val_accuracy: 0.8667\n",
            "Epoch 28/55\n",
            "88/88 [==============================] - 2s 18ms/step - loss: 0.2545 - accuracy: 0.8955 - val_loss: 0.2875 - val_accuracy: 0.8667\n",
            "Epoch 29/55\n",
            "88/88 [==============================] - 2s 19ms/step - loss: 0.2539 - accuracy: 0.8946 - val_loss: 0.3459 - val_accuracy: 0.8733\n",
            "Epoch 30/55\n",
            "88/88 [==============================] - 2s 19ms/step - loss: 0.2554 - accuracy: 0.8950 - val_loss: 0.3207 - val_accuracy: 0.8867\n",
            "Epoch 31/55\n",
            "88/88 [==============================] - 1s 16ms/step - loss: 0.2515 - accuracy: 0.8930 - val_loss: 0.3012 - val_accuracy: 0.8667\n",
            "Epoch 32/55\n",
            "88/88 [==============================] - 2s 18ms/step - loss: 0.2382 - accuracy: 0.9000 - val_loss: 0.2684 - val_accuracy: 0.8867\n",
            "Epoch 33/55\n",
            "88/88 [==============================] - 1s 15ms/step - loss: 0.2384 - accuracy: 0.9007 - val_loss: 0.2930 - val_accuracy: 0.8600\n",
            "Epoch 34/55\n",
            "88/88 [==============================] - 1s 15ms/step - loss: 0.2362 - accuracy: 0.9010 - val_loss: 0.2885 - val_accuracy: 0.8733\n",
            "Epoch 35/55\n",
            "88/88 [==============================] - 1s 15ms/step - loss: 0.2390 - accuracy: 0.8975 - val_loss: 0.3113 - val_accuracy: 0.8600\n",
            "Epoch 36/55\n",
            "88/88 [==============================] - 1s 15ms/step - loss: 0.2404 - accuracy: 0.8998 - val_loss: 0.3250 - val_accuracy: 0.8733\n",
            "Epoch 37/55\n",
            "88/88 [==============================] - 1s 15ms/step - loss: 0.2357 - accuracy: 0.9010 - val_loss: 0.3803 - val_accuracy: 0.8667\n",
            "Epoch 38/55\n",
            "88/88 [==============================] - 1s 16ms/step - loss: 0.2373 - accuracy: 0.9028 - val_loss: 0.3043 - val_accuracy: 0.8800\n",
            "Epoch 39/55\n",
            "88/88 [==============================] - 1s 16ms/step - loss: 0.2292 - accuracy: 0.9032 - val_loss: 0.2948 - val_accuracy: 0.8733\n",
            "Epoch 40/55\n",
            "88/88 [==============================] - 1s 17ms/step - loss: 0.2253 - accuracy: 0.9021 - val_loss: 0.3587 - val_accuracy: 0.8667\n",
            "Epoch 41/55\n",
            "88/88 [==============================] - 2s 18ms/step - loss: 0.2235 - accuracy: 0.9019 - val_loss: 0.3139 - val_accuracy: 0.8933\n",
            "Epoch 42/55\n",
            "88/88 [==============================] - 1s 16ms/step - loss: 0.2214 - accuracy: 0.9069 - val_loss: 0.3008 - val_accuracy: 0.8667\n",
            "Epoch 43/55\n",
            "88/88 [==============================] - 1s 15ms/step - loss: 0.2226 - accuracy: 0.9044 - val_loss: 0.3127 - val_accuracy: 0.8667\n",
            "Epoch 44/55\n",
            "88/88 [==============================] - 1s 15ms/step - loss: 0.2168 - accuracy: 0.9083 - val_loss: 0.3376 - val_accuracy: 0.8867\n",
            "Epoch 45/55\n",
            "88/88 [==============================] - 1s 15ms/step - loss: 0.2192 - accuracy: 0.9071 - val_loss: 0.3425 - val_accuracy: 0.8867\n",
            "Epoch 46/55\n",
            "88/88 [==============================] - 1s 15ms/step - loss: 0.2109 - accuracy: 0.9099 - val_loss: 0.2137 - val_accuracy: 0.8933\n",
            "Epoch 47/55\n",
            "88/88 [==============================] - 1s 15ms/step - loss: 0.2086 - accuracy: 0.9094 - val_loss: 0.2432 - val_accuracy: 0.9000\n",
            "Epoch 48/55\n",
            "88/88 [==============================] - 1s 15ms/step - loss: 0.2023 - accuracy: 0.9129 - val_loss: 0.3040 - val_accuracy: 0.8867\n",
            "Epoch 49/55\n",
            "88/88 [==============================] - 1s 17ms/step - loss: 0.2097 - accuracy: 0.9115 - val_loss: 0.2422 - val_accuracy: 0.8867\n",
            "Epoch 50/55\n",
            "88/88 [==============================] - 2s 18ms/step - loss: 0.2088 - accuracy: 0.9090 - val_loss: 0.3047 - val_accuracy: 0.8933\n",
            "Epoch 51/55\n",
            "88/88 [==============================] - 1s 15ms/step - loss: 0.2043 - accuracy: 0.9122 - val_loss: 0.3161 - val_accuracy: 0.8933\n",
            "Epoch 52/55\n",
            "88/88 [==============================] - 1s 15ms/step - loss: 0.1982 - accuracy: 0.9154 - val_loss: 0.2627 - val_accuracy: 0.8933\n",
            "Epoch 53/55\n",
            "88/88 [==============================] - 1s 15ms/step - loss: 0.2032 - accuracy: 0.9133 - val_loss: 0.2709 - val_accuracy: 0.8867\n",
            "Epoch 54/55\n",
            "88/88 [==============================] - 1s 15ms/step - loss: 0.1979 - accuracy: 0.9147 - val_loss: 0.3001 - val_accuracy: 0.8867\n",
            "Epoch 55/55\n",
            "88/88 [==============================] - 1s 15ms/step - loss: 0.1937 - accuracy: 0.9161 - val_loss: 0.3139 - val_accuracy: 0.8933\n"
          ]
        }
      ]
    },
    {
      "cell_type": "code",
      "source": [
        "model_00.summary()"
      ],
      "metadata": {
        "colab": {
          "base_uri": "https://localhost:8080/"
        },
        "id": "env37Tovz7fI",
        "outputId": "c0b053c4-c3b2-4d4c-d56d-292827a35c33"
      },
      "execution_count": null,
      "outputs": [
        {
          "output_type": "stream",
          "name": "stdout",
          "text": [
            "Model: \"sequential_1\"\n",
            "_________________________________________________________________\n",
            " Layer (type)                Output Shape              Param #   \n",
            "=================================================================\n",
            " sequential (Sequential)     (None, 32, 32, 3)         0         \n",
            "                                                                 \n",
            " conv2d (Conv2D)             (None, 32, 32, 32)        896       \n",
            "                                                                 \n",
            " conv2d_1 (Conv2D)           (None, 32, 32, 32)        9248      \n",
            "                                                                 \n",
            " max_pooling2d (MaxPooling2  (None, 16, 16, 32)        0         \n",
            " D)                                                              \n",
            "                                                                 \n",
            " dropout (Dropout)           (None, 16, 16, 32)        0         \n",
            "                                                                 \n",
            " conv2d_2 (Conv2D)           (None, 16, 16, 64)        18496     \n",
            "                                                                 \n",
            " dropout_1 (Dropout)         (None, 16, 16, 64)        0         \n",
            "                                                                 \n",
            " conv2d_3 (Conv2D)           (None, 16, 16, 128)       73856     \n",
            "                                                                 \n",
            " conv2d_4 (Conv2D)           (None, 16, 16, 256)       295168    \n",
            "                                                                 \n",
            " max_pooling2d_1 (MaxPoolin  (None, 8, 8, 256)         0         \n",
            " g2D)                                                            \n",
            "                                                                 \n",
            " dropout_2 (Dropout)         (None, 8, 8, 256)         0         \n",
            "                                                                 \n",
            " flatten (Flatten)           (None, 16384)             0         \n",
            "                                                                 \n",
            " dense (Dense)               (None, 512)               8389120   \n",
            "                                                                 \n",
            " dropout_3 (Dropout)         (None, 512)               0         \n",
            "                                                                 \n",
            " dense_1 (Dense)             (None, 2)                 1026      \n",
            "                                                                 \n",
            "=================================================================\n",
            "Total params: 8787810 (33.52 MB)\n",
            "Trainable params: 8787810 (33.52 MB)\n",
            "Non-trainable params: 0 (0.00 Byte)\n",
            "_________________________________________________________________\n"
          ]
        }
      ]
    },
    {
      "cell_type": "code",
      "source": [
        "data_xtrain = []\n",
        "data_ytrain = []\n",
        "\n",
        "for folder in folders:\n",
        "  for filename in os.listdir(f\"/content/archive/train/{folder}\"):\n",
        "      if filename.endswith(\"jpg\"):\n",
        "          pic = cv2.imread(f\"/content/archive/train/{folder}/{filename}\")\n",
        "          pic = cv2.resize(pic, (32,32))\n",
        "          data_ytrain.append([dic[folder]])\n",
        "          data_xtrain.append(pic)"
      ],
      "metadata": {
        "id": "vxeRfof1UgeQ"
      },
      "execution_count": null,
      "outputs": []
    },
    {
      "cell_type": "code",
      "source": [
        "X_train = np.array(data_xtrain)\n",
        "print(X_train.shape)\n",
        "y_train = np.array(data_ytrain)\n",
        "print(y_train.shape)"
      ],
      "metadata": {
        "colab": {
          "base_uri": "https://localhost:8080/"
        },
        "id": "nQc674NbW0dg",
        "outputId": "5fd60ff9-c823-46e6-8d73-f5e42ff82450"
      },
      "execution_count": null,
      "outputs": [
        {
          "output_type": "stream",
          "name": "stdout",
          "text": [
            "(2185, 32, 32, 3)\n",
            "(2185, 1)\n"
          ]
        }
      ]
    },
    {
      "cell_type": "code",
      "source": [
        "y_train = to_categorical(y_train)\n",
        "print(y_train.shape)"
      ],
      "metadata": {
        "colab": {
          "base_uri": "https://localhost:8080/"
        },
        "id": "JWFoT8A45xLn",
        "outputId": "c3020ece-6388-44bc-ddf9-c19304d14d55"
      },
      "execution_count": null,
      "outputs": [
        {
          "output_type": "stream",
          "name": "stdout",
          "text": [
            "(2185, 15)\n"
          ]
        }
      ]
    },
    {
      "cell_type": "code",
      "source": [
        "data_xtest = []\n",
        "data_ytest = []\n",
        "\n",
        "for folder in folders:\n",
        "  for filename in os.listdir(f\"/content/archive/test/{folder}\"):\n",
        "      if filename.endswith(\"jpg\"):\n",
        "          pic = cv2.imread(f\"/content/archive/test/{folder}/{filename}\")\n",
        "          pic = cv2.resize(pic, (32,32))\n",
        "          data_ytest.append([dic[folder]])\n",
        "          data_xtest.append(pic)"
      ],
      "metadata": {
        "id": "fxnSfQzkW27I"
      },
      "execution_count": null,
      "outputs": []
    },
    {
      "cell_type": "code",
      "source": [
        "X_test = np.array(data_xtest)\n",
        "print(X_test.shape)\n",
        "y_test = np.array(data_ytest)\n",
        "print(y_test.shape)"
      ],
      "metadata": {
        "colab": {
          "base_uri": "https://localhost:8080/"
        },
        "id": "TiiwV_ZCa-EU",
        "outputId": "b6813a36-1b1c-411c-a85b-bcfd1598e5f9"
      },
      "execution_count": null,
      "outputs": [
        {
          "output_type": "stream",
          "name": "stdout",
          "text": [
            "(75, 32, 32, 3)\n",
            "(75, 1)\n"
          ]
        }
      ]
    },
    {
      "cell_type": "code",
      "source": [
        "y_test = to_categorical(y_test)\n",
        "print(y_test.shape)"
      ],
      "metadata": {
        "colab": {
          "base_uri": "https://localhost:8080/"
        },
        "id": "01uxD0aR9hbm",
        "outputId": "0619245c-f942-455b-85de-767d1715a040"
      },
      "execution_count": null,
      "outputs": [
        {
          "output_type": "stream",
          "name": "stdout",
          "text": [
            "(75, 15)\n"
          ]
        }
      ]
    },
    {
      "cell_type": "code",
      "source": [
        "data_xvalid = []\n",
        "data_yvalid = []\n",
        "\n",
        "for folder in folders:\n",
        "  for filename in os.listdir(f\"/content/archive/valid/{folder}\"):\n",
        "      if filename.endswith(\"jpg\"):\n",
        "          pic = cv2.imread(f\"/content/archive/valid/{folder}/{filename}\")\n",
        "          pic = cv2.resize(pic, (32,32))\n",
        "          data_yvalid.append([dic[folder]])\n",
        "          data_xvalid.append(pic)"
      ],
      "metadata": {
        "id": "tWuiU-Jxa_XM"
      },
      "execution_count": null,
      "outputs": []
    },
    {
      "cell_type": "code",
      "source": [
        "X_valid = np.array(data_xvalid)\n",
        "print(X_valid.shape)\n",
        "y_valid = np.array(data_yvalid)\n",
        "print(y_valid.shape)"
      ],
      "metadata": {
        "colab": {
          "base_uri": "https://localhost:8080/"
        },
        "id": "bJ0uatOobE00",
        "outputId": "683c46b3-a795-4b98-cca6-87434cd28f45"
      },
      "execution_count": null,
      "outputs": [
        {
          "output_type": "stream",
          "name": "stdout",
          "text": [
            "(75, 32, 32, 3)\n",
            "(75, 1)\n"
          ]
        }
      ]
    },
    {
      "cell_type": "code",
      "source": [
        "y_valid = to_categorical(y_valid)\n",
        "print(y_valid.shape)"
      ],
      "metadata": {
        "colab": {
          "base_uri": "https://localhost:8080/"
        },
        "id": "eLc89SoM-xuY",
        "outputId": "b4e76563-e4ff-42a4-bdf2-4dfdd8288578"
      },
      "execution_count": null,
      "outputs": [
        {
          "output_type": "stream",
          "name": "stdout",
          "text": [
            "(75, 15)\n"
          ]
        }
      ]
    },
    {
      "cell_type": "code",
      "source": [
        "from tensorflow import keras\n",
        "from keras import Sequential\n",
        "from keras.layers import Dense, Flatten, Input\n",
        "from keras.utils.np_utils import to_categorical\n",
        "from keras.layers import Conv2D, Dropout, MaxPooling2D"
      ],
      "metadata": {
        "id": "3iTqRcG1c9dU"
      },
      "execution_count": null,
      "outputs": []
    },
    {
      "cell_type": "code",
      "source": [
        "model = Sequential()\n",
        "model.add(Conv2D(32, (3,3), activation=\"relu\", padding=\"same\", input_shape=(32,32,3)))\n",
        "model.add(Conv2D(32, (3,3), activation=\"relu\", padding=\"same\"))\n",
        "model.add(MaxPooling2D((2,2)))\n",
        "model.add(Dropout(0.25))\n",
        "\n",
        "model.add(Conv2D(64, (3,3), activation=\"relu\", padding=\"same\"))\n",
        "model.add(Conv2D(64, (3,3), activation=\"relu\", padding=\"same\"))\n",
        "model.add(Dropout(0.25))\n",
        "\n",
        "model.add(Conv2D(128, (3,3), activation=\"relu\", padding=\"same\"))\n",
        "model.add(Conv2D(128, (3,3), activation=\"relu\", padding=\"same\"))\n",
        "model.add(Dropout(0.25))\n",
        "\n",
        "model.add(Flatten())\n",
        "model.add(Dense(128, activation='relu'))\n",
        "model.add(Dropout(0.25))\n",
        "model.add(Dense(15, activation='softmax'))\n",
        "\n",
        "#model.compile(optimizer='Adam', loss='categorical_crossentropy', metrics=['accuracy'])\n",
        "#historial = model.fit(X_train, y_train, epochs=60, batch_size=128, validation_data=(X_test,y_test))"
      ],
      "metadata": {
        "id": "d_X6ld35ztU1"
      },
      "execution_count": null,
      "outputs": []
    },
    {
      "cell_type": "code",
      "source": [
        "model.summary()"
      ],
      "metadata": {
        "colab": {
          "base_uri": "https://localhost:8080/"
        },
        "id": "EiNzsXZ57g_T",
        "outputId": "61b0e63b-f8c8-4607-8079-a68bab055333"
      },
      "execution_count": null,
      "outputs": [
        {
          "output_type": "stream",
          "name": "stdout",
          "text": [
            "Model: \"sequential\"\n",
            "_________________________________________________________________\n",
            " Layer (type)                Output Shape              Param #   \n",
            "=================================================================\n",
            " conv2d (Conv2D)             (None, 32, 32, 32)        896       \n",
            "                                                                 \n",
            " conv2d_1 (Conv2D)           (None, 32, 32, 32)        9248      \n",
            "                                                                 \n",
            " max_pooling2d (MaxPooling2D  (None, 16, 16, 32)       0         \n",
            " )                                                               \n",
            "                                                                 \n",
            " dropout (Dropout)           (None, 16, 16, 32)        0         \n",
            "                                                                 \n",
            " conv2d_2 (Conv2D)           (None, 16, 16, 64)        18496     \n",
            "                                                                 \n",
            " conv2d_3 (Conv2D)           (None, 16, 16, 64)        36928     \n",
            "                                                                 \n",
            " dropout_1 (Dropout)         (None, 16, 16, 64)        0         \n",
            "                                                                 \n",
            " conv2d_4 (Conv2D)           (None, 16, 16, 128)       73856     \n",
            "                                                                 \n",
            " conv2d_5 (Conv2D)           (None, 16, 16, 128)       147584    \n",
            "                                                                 \n",
            " dropout_2 (Dropout)         (None, 16, 16, 128)       0         \n",
            "                                                                 \n",
            " flatten (Flatten)           (None, 32768)             0         \n",
            "                                                                 \n",
            " dense (Dense)               (None, 128)               4194432   \n",
            "                                                                 \n",
            " dropout_3 (Dropout)         (None, 128)               0         \n",
            "                                                                 \n",
            " dense_1 (Dense)             (None, 15)                1935      \n",
            "                                                                 \n",
            "=================================================================\n",
            "Total params: 4,483,375\n",
            "Trainable params: 4,483,375\n",
            "Non-trainable params: 0\n",
            "_________________________________________________________________\n"
          ]
        }
      ]
    },
    {
      "cell_type": "code",
      "source": [
        "#model.save(\"SpiderClassifier.h5\")"
      ],
      "metadata": {
        "id": "V98gv0aTEM1_"
      },
      "execution_count": null,
      "outputs": []
    },
    {
      "cell_type": "code",
      "source": [
        "#RedQuePredice=keras.models.load_model(\"SpiderClassifier.h5\")"
      ],
      "metadata": {
        "id": "OBni1bctE6_7"
      },
      "execution_count": null,
      "outputs": []
    },
    {
      "cell_type": "code",
      "source": [
        "#print(\"The image is most likely to be a: \", dickeys[int(np.argmax(RedQuePredice.predict(viuda),1))])"
      ],
      "metadata": {
        "id": "kCjynZ7zFlQH"
      },
      "execution_count": null,
      "outputs": []
    },
    {
      "cell_type": "code",
      "source": [
        "def PredIm(image_name):\n",
        "  image = cv2.imread(image_name)\n",
        "  image = cv2.resize(image, (32,32))\n",
        "  image = np.expand_dims(image,0)\n",
        "  return print(\"It is most likely to be about a:\", dickeys[int(np.argmax(RedQuePredice(image),1))])"
      ],
      "metadata": {
        "id": "m0SijYQ0Kkhf"
      },
      "execution_count": null,
      "outputs": []
    },
    {
      "cell_type": "code",
      "source": [
        "#PredIm(\"reclusa.jpg\")"
      ],
      "metadata": {
        "id": "untyFLoEuV1u"
      },
      "execution_count": null,
      "outputs": []
    },
    {
      "cell_type": "code",
      "source": [
        "model02 = Sequential()\n",
        "model02.add(Conv2D(32, (3,3), activation=\"relu\", padding=\"same\", input_shape=(32,32,3)))\n",
        "model02.add(Conv2D(32, (3,3), activation=\"relu\", padding=\"same\"))\n",
        "model02.add(MaxPooling2D((2,2)))\n",
        "model02.add(Dropout(0.25))\n",
        "\n",
        "model02.add(Conv2D(64, (3,3), activation=\"relu\", padding=\"same\"))\n",
        "model02.add(Dropout(0.25))\n",
        "\n",
        "model02.add(Conv2D(128, (3,3), activation=\"relu\", padding=\"same\"))\n",
        "model02.add(Conv2D(256, (3,3), activation=\"relu\", padding=\"same\"))\n",
        "model02.add(Dropout(0.25))\n",
        "\n",
        "model02.add(Flatten())\n",
        "model02.add(Dense(512, activation='relu'))\n",
        "model02.add(Dropout(0.25))\n",
        "model02.add(Dense(15, activation='softmax'))\n",
        "\n",
        "model02.compile(optimizer='Adamax', loss='categorical_crossentropy', metrics=['accuracy'])\n",
        "historial = model02.fit(X_train, y_train, epochs=55, batch_size=50, validation_data=(X_test,y_test))"
      ],
      "metadata": {
        "colab": {
          "base_uri": "https://localhost:8080/"
        },
        "id": "nKJVHPJo6tbf",
        "outputId": "0d181459-8263-4052-a718-5369700aa78c"
      },
      "execution_count": null,
      "outputs": [
        {
          "output_type": "stream",
          "name": "stdout",
          "text": [
            "Epoch 1/55\n",
            "44/44 [==============================] - 4s 32ms/step - loss: 36.8130 - accuracy: 0.0682 - val_loss: 2.7036 - val_accuracy: 0.0800\n",
            "Epoch 2/55\n",
            "44/44 [==============================] - 1s 19ms/step - loss: 2.6976 - accuracy: 0.0815 - val_loss: 2.6718 - val_accuracy: 0.0667\n",
            "Epoch 3/55\n",
            "44/44 [==============================] - 1s 20ms/step - loss: 2.6620 - accuracy: 0.0906 - val_loss: 2.5015 - val_accuracy: 0.1467\n",
            "Epoch 4/55\n",
            "44/44 [==============================] - 1s 20ms/step - loss: 2.5352 - accuracy: 0.1483 - val_loss: 2.2181 - val_accuracy: 0.2667\n",
            "Epoch 5/55\n",
            "44/44 [==============================] - 1s 19ms/step - loss: 2.3781 - accuracy: 0.2082 - val_loss: 1.9234 - val_accuracy: 0.3867\n",
            "Epoch 6/55\n",
            "44/44 [==============================] - 1s 19ms/step - loss: 2.2664 - accuracy: 0.2540 - val_loss: 1.8003 - val_accuracy: 0.4133\n",
            "Epoch 7/55\n",
            "44/44 [==============================] - 1s 19ms/step - loss: 2.1362 - accuracy: 0.2938 - val_loss: 1.8078 - val_accuracy: 0.4133\n",
            "Epoch 8/55\n",
            "44/44 [==============================] - 1s 20ms/step - loss: 2.0280 - accuracy: 0.3268 - val_loss: 1.7622 - val_accuracy: 0.4533\n",
            "Epoch 9/55\n",
            "44/44 [==============================] - 1s 20ms/step - loss: 1.9944 - accuracy: 0.3327 - val_loss: 1.7279 - val_accuracy: 0.4933\n",
            "Epoch 10/55\n",
            "44/44 [==============================] - 1s 21ms/step - loss: 1.9285 - accuracy: 0.3478 - val_loss: 1.5667 - val_accuracy: 0.5067\n",
            "Epoch 11/55\n",
            "44/44 [==============================] - 1s 20ms/step - loss: 1.7835 - accuracy: 0.4082 - val_loss: 1.5023 - val_accuracy: 0.5200\n",
            "Epoch 12/55\n",
            "44/44 [==============================] - 1s 20ms/step - loss: 1.6976 - accuracy: 0.4352 - val_loss: 1.3648 - val_accuracy: 0.5733\n",
            "Epoch 13/55\n",
            "44/44 [==============================] - 1s 19ms/step - loss: 1.6257 - accuracy: 0.4618 - val_loss: 1.2758 - val_accuracy: 0.6400\n",
            "Epoch 14/55\n",
            "44/44 [==============================] - 1s 20ms/step - loss: 1.5650 - accuracy: 0.4700 - val_loss: 1.3687 - val_accuracy: 0.5333\n",
            "Epoch 15/55\n",
            "44/44 [==============================] - 1s 20ms/step - loss: 1.5275 - accuracy: 0.4746 - val_loss: 1.2322 - val_accuracy: 0.5867\n",
            "Epoch 16/55\n",
            "44/44 [==============================] - 1s 20ms/step - loss: 1.4188 - accuracy: 0.5185 - val_loss: 1.2224 - val_accuracy: 0.6267\n",
            "Epoch 17/55\n",
            "44/44 [==============================] - 1s 19ms/step - loss: 1.3277 - accuracy: 0.5455 - val_loss: 1.1913 - val_accuracy: 0.5600\n",
            "Epoch 18/55\n",
            "44/44 [==============================] - 1s 20ms/step - loss: 1.2472 - accuracy: 0.5721 - val_loss: 1.2313 - val_accuracy: 0.5600\n",
            "Epoch 19/55\n",
            "44/44 [==============================] - 1s 19ms/step - loss: 1.1982 - accuracy: 0.5776 - val_loss: 1.2306 - val_accuracy: 0.6000\n",
            "Epoch 20/55\n",
            "44/44 [==============================] - 1s 20ms/step - loss: 1.1445 - accuracy: 0.6124 - val_loss: 1.2340 - val_accuracy: 0.6133\n",
            "Epoch 21/55\n",
            "44/44 [==============================] - 1s 19ms/step - loss: 1.0349 - accuracy: 0.6481 - val_loss: 1.1781 - val_accuracy: 0.5867\n",
            "Epoch 22/55\n",
            "44/44 [==============================] - 1s 20ms/step - loss: 0.9757 - accuracy: 0.6604 - val_loss: 1.1797 - val_accuracy: 0.6000\n",
            "Epoch 23/55\n",
            "44/44 [==============================] - 1s 21ms/step - loss: 0.8911 - accuracy: 0.6828 - val_loss: 1.3014 - val_accuracy: 0.6267\n",
            "Epoch 24/55\n",
            "44/44 [==============================] - 1s 21ms/step - loss: 0.8373 - accuracy: 0.7140 - val_loss: 1.2105 - val_accuracy: 0.6267\n",
            "Epoch 25/55\n",
            "44/44 [==============================] - 1s 20ms/step - loss: 0.7855 - accuracy: 0.7254 - val_loss: 1.2264 - val_accuracy: 0.6400\n",
            "Epoch 26/55\n",
            "44/44 [==============================] - 1s 19ms/step - loss: 0.6848 - accuracy: 0.7625 - val_loss: 1.2161 - val_accuracy: 0.6933\n",
            "Epoch 27/55\n",
            "44/44 [==============================] - 1s 19ms/step - loss: 0.6799 - accuracy: 0.7620 - val_loss: 1.1939 - val_accuracy: 0.6667\n",
            "Epoch 28/55\n",
            "44/44 [==============================] - 1s 20ms/step - loss: 0.6113 - accuracy: 0.7867 - val_loss: 1.3388 - val_accuracy: 0.6667\n",
            "Epoch 29/55\n",
            "44/44 [==============================] - 1s 20ms/step - loss: 0.5800 - accuracy: 0.7895 - val_loss: 1.3927 - val_accuracy: 0.6133\n",
            "Epoch 30/55\n",
            "44/44 [==============================] - 1s 19ms/step - loss: 0.4967 - accuracy: 0.8220 - val_loss: 1.4919 - val_accuracy: 0.6400\n",
            "Epoch 31/55\n",
            "44/44 [==============================] - 1s 19ms/step - loss: 0.4377 - accuracy: 0.8389 - val_loss: 1.4744 - val_accuracy: 0.6800\n",
            "Epoch 32/55\n",
            "44/44 [==============================] - 1s 19ms/step - loss: 0.4339 - accuracy: 0.8490 - val_loss: 1.7411 - val_accuracy: 0.5867\n",
            "Epoch 33/55\n",
            "44/44 [==============================] - 1s 20ms/step - loss: 0.3949 - accuracy: 0.8650 - val_loss: 1.5655 - val_accuracy: 0.6667\n",
            "Epoch 34/55\n",
            "44/44 [==============================] - 1s 20ms/step - loss: 0.3635 - accuracy: 0.8755 - val_loss: 1.4590 - val_accuracy: 0.6933\n",
            "Epoch 35/55\n",
            "44/44 [==============================] - 1s 19ms/step - loss: 0.3470 - accuracy: 0.8746 - val_loss: 1.4809 - val_accuracy: 0.6267\n",
            "Epoch 36/55\n",
            "44/44 [==============================] - 1s 19ms/step - loss: 0.2970 - accuracy: 0.8966 - val_loss: 1.4262 - val_accuracy: 0.6800\n",
            "Epoch 37/55\n",
            "44/44 [==============================] - 1s 20ms/step - loss: 0.3161 - accuracy: 0.8934 - val_loss: 1.4061 - val_accuracy: 0.6800\n",
            "Epoch 38/55\n",
            "44/44 [==============================] - 1s 20ms/step - loss: 0.2888 - accuracy: 0.9007 - val_loss: 1.4204 - val_accuracy: 0.6400\n",
            "Epoch 39/55\n",
            "44/44 [==============================] - 1s 20ms/step - loss: 0.2527 - accuracy: 0.9094 - val_loss: 1.3825 - val_accuracy: 0.7067\n",
            "Epoch 40/55\n",
            "44/44 [==============================] - 1s 19ms/step - loss: 0.2463 - accuracy: 0.9204 - val_loss: 1.5657 - val_accuracy: 0.6800\n",
            "Epoch 41/55\n",
            "44/44 [==============================] - 1s 19ms/step - loss: 0.2231 - accuracy: 0.9149 - val_loss: 1.6757 - val_accuracy: 0.6667\n",
            "Epoch 42/55\n",
            "44/44 [==============================] - 1s 20ms/step - loss: 0.1945 - accuracy: 0.9341 - val_loss: 1.5123 - val_accuracy: 0.6933\n",
            "Epoch 43/55\n",
            "44/44 [==============================] - 1s 19ms/step - loss: 0.1718 - accuracy: 0.9414 - val_loss: 1.6069 - val_accuracy: 0.7067\n",
            "Epoch 44/55\n",
            "44/44 [==============================] - 1s 19ms/step - loss: 0.2009 - accuracy: 0.9382 - val_loss: 1.6771 - val_accuracy: 0.6800\n",
            "Epoch 45/55\n",
            "44/44 [==============================] - 1s 20ms/step - loss: 0.1597 - accuracy: 0.9423 - val_loss: 1.4877 - val_accuracy: 0.7200\n",
            "Epoch 46/55\n",
            "44/44 [==============================] - 1s 19ms/step - loss: 0.1592 - accuracy: 0.9378 - val_loss: 1.6398 - val_accuracy: 0.7200\n",
            "Epoch 47/55\n",
            "44/44 [==============================] - 1s 19ms/step - loss: 0.1624 - accuracy: 0.9437 - val_loss: 1.6193 - val_accuracy: 0.7067\n",
            "Epoch 48/55\n",
            "44/44 [==============================] - 1s 19ms/step - loss: 0.1497 - accuracy: 0.9574 - val_loss: 1.7016 - val_accuracy: 0.7200\n",
            "Epoch 49/55\n",
            "44/44 [==============================] - 1s 19ms/step - loss: 0.1436 - accuracy: 0.9519 - val_loss: 1.7253 - val_accuracy: 0.6933\n",
            "Epoch 50/55\n",
            "44/44 [==============================] - 1s 19ms/step - loss: 0.1171 - accuracy: 0.9625 - val_loss: 1.6695 - val_accuracy: 0.6933\n",
            "Epoch 51/55\n",
            "44/44 [==============================] - 1s 20ms/step - loss: 0.1216 - accuracy: 0.9643 - val_loss: 1.7814 - val_accuracy: 0.7333\n",
            "Epoch 52/55\n",
            "44/44 [==============================] - 1s 21ms/step - loss: 0.1426 - accuracy: 0.9487 - val_loss: 1.7603 - val_accuracy: 0.6800\n",
            "Epoch 53/55\n",
            "44/44 [==============================] - 1s 21ms/step - loss: 0.1023 - accuracy: 0.9666 - val_loss: 1.6663 - val_accuracy: 0.7200\n",
            "Epoch 54/55\n",
            "44/44 [==============================] - 1s 20ms/step - loss: 0.0966 - accuracy: 0.9680 - val_loss: 1.7998 - val_accuracy: 0.7200\n",
            "Epoch 55/55\n",
            "44/44 [==============================] - 1s 19ms/step - loss: 0.0899 - accuracy: 0.9684 - val_loss: 1.6973 - val_accuracy: 0.7333\n"
          ]
        }
      ]
    },
    {
      "cell_type": "code",
      "source": [
        "model02.save(\"SpiderClassifier96-73.h5\")"
      ],
      "metadata": {
        "id": "f3p9o5Am8rwB"
      },
      "execution_count": null,
      "outputs": []
    },
    {
      "cell_type": "code",
      "source": [
        "model03 = Sequential()\n",
        "model03.add(Conv2D(32, (3,3), activation=\"relu\", padding=\"same\", input_shape=(32,32,3)))\n",
        "model03.add(Conv2D(32, (3,3), activation=\"relu\", padding=\"same\"))\n",
        "model03.add(MaxPooling2D((2,2)))\n",
        "model03.add(Dropout(0.25))\n",
        "\n",
        "model03.add(Conv2D(64, (3,3), activation=\"relu\", padding=\"same\"))\n",
        "model03.add(Conv2D(64, (3,3), activation=\"relu\", padding=\"same\"))\n",
        "model03.add(Dropout(0.25))\n",
        "\n",
        "model03.add(Conv2D(128, (3,3), activation=\"relu\", padding=\"same\"))\n",
        "model03.add(Conv2D(256, (3,3), activation=\"relu\", padding=\"same\"))\n",
        "model03.add(Dropout(0.25))\n",
        "\n",
        "model03.add(Flatten())\n",
        "model03.add(Dense(512, activation='relu'))\n",
        "model03.add(Dropout(0.25))\n",
        "model03.add(Dense(15, activation='softmax'))\n",
        "\n",
        "model03.compile(optimizer='Adamax', loss='categorical_crossentropy', metrics=['accuracy'])\n",
        "historial = model03.fit(X_train, y_train, epochs=100, batch_size=128, validation_data=(X_test,y_test))"
      ],
      "metadata": {
        "colab": {
          "base_uri": "https://localhost:8080/"
        },
        "id": "m7RWP9sj-ODZ",
        "outputId": "5b8e25ff-1616-4ff1-e5da-a51a4c16251f"
      },
      "execution_count": null,
      "outputs": [
        {
          "output_type": "stream",
          "name": "stdout",
          "text": [
            "Epoch 1/100\n",
            "18/18 [==============================] - 3s 51ms/step - loss: 25.2820 - accuracy: 0.0728 - val_loss: 2.7082 - val_accuracy: 0.0667\n",
            "Epoch 2/100\n",
            "18/18 [==============================] - 1s 35ms/step - loss: 2.7060 - accuracy: 0.0732 - val_loss: 2.6940 - val_accuracy: 0.0667\n",
            "Epoch 3/100\n",
            "18/18 [==============================] - 1s 35ms/step - loss: 2.6849 - accuracy: 0.1066 - val_loss: 2.6297 - val_accuracy: 0.1733\n",
            "Epoch 4/100\n",
            "18/18 [==============================] - 1s 35ms/step - loss: 2.6346 - accuracy: 0.1455 - val_loss: 2.5339 - val_accuracy: 0.1733\n",
            "Epoch 5/100\n",
            "18/18 [==============================] - 1s 35ms/step - loss: 2.5835 - accuracy: 0.1446 - val_loss: 2.4146 - val_accuracy: 0.2267\n",
            "Epoch 6/100\n",
            "18/18 [==============================] - 1s 35ms/step - loss: 2.5298 - accuracy: 0.1638 - val_loss: 2.3465 - val_accuracy: 0.2667\n",
            "Epoch 7/100\n",
            "18/18 [==============================] - 1s 35ms/step - loss: 2.4527 - accuracy: 0.1899 - val_loss: 2.2206 - val_accuracy: 0.2800\n",
            "Epoch 8/100\n",
            "18/18 [==============================] - 1s 35ms/step - loss: 2.3569 - accuracy: 0.2069 - val_loss: 2.1318 - val_accuracy: 0.2533\n",
            "Epoch 9/100\n",
            "18/18 [==============================] - 1s 35ms/step - loss: 2.3034 - accuracy: 0.2302 - val_loss: 2.0425 - val_accuracy: 0.2800\n",
            "Epoch 10/100\n",
            "18/18 [==============================] - 1s 36ms/step - loss: 2.2157 - accuracy: 0.2467 - val_loss: 2.0257 - val_accuracy: 0.2667\n",
            "Epoch 11/100\n",
            "18/18 [==============================] - 1s 37ms/step - loss: 2.1746 - accuracy: 0.2673 - val_loss: 1.9783 - val_accuracy: 0.2533\n",
            "Epoch 12/100\n",
            "18/18 [==============================] - 1s 38ms/step - loss: 2.1307 - accuracy: 0.2860 - val_loss: 1.9722 - val_accuracy: 0.3067\n",
            "Epoch 13/100\n",
            "18/18 [==============================] - 1s 38ms/step - loss: 2.0992 - accuracy: 0.2870 - val_loss: 1.8753 - val_accuracy: 0.3867\n",
            "Epoch 14/100\n",
            "18/18 [==============================] - 1s 38ms/step - loss: 2.0735 - accuracy: 0.2975 - val_loss: 1.7957 - val_accuracy: 0.3733\n",
            "Epoch 15/100\n",
            "18/18 [==============================] - 1s 35ms/step - loss: 2.0105 - accuracy: 0.3222 - val_loss: 1.7023 - val_accuracy: 0.4533\n",
            "Epoch 16/100\n",
            "18/18 [==============================] - 1s 35ms/step - loss: 1.9977 - accuracy: 0.3135 - val_loss: 1.7622 - val_accuracy: 0.4000\n",
            "Epoch 17/100\n",
            "18/18 [==============================] - 1s 35ms/step - loss: 1.9180 - accuracy: 0.3524 - val_loss: 1.6579 - val_accuracy: 0.4267\n",
            "Epoch 18/100\n",
            "18/18 [==============================] - 1s 36ms/step - loss: 1.9113 - accuracy: 0.3455 - val_loss: 1.6149 - val_accuracy: 0.4933\n",
            "Epoch 19/100\n",
            "18/18 [==============================] - 1s 35ms/step - loss: 1.8424 - accuracy: 0.3762 - val_loss: 1.5948 - val_accuracy: 0.4400\n",
            "Epoch 20/100\n",
            "18/18 [==============================] - 1s 36ms/step - loss: 1.8129 - accuracy: 0.3776 - val_loss: 1.5339 - val_accuracy: 0.4800\n",
            "Epoch 21/100\n",
            "18/18 [==============================] - 1s 36ms/step - loss: 1.7826 - accuracy: 0.3840 - val_loss: 1.5496 - val_accuracy: 0.4400\n",
            "Epoch 22/100\n",
            "18/18 [==============================] - 1s 36ms/step - loss: 1.7408 - accuracy: 0.4101 - val_loss: 1.5025 - val_accuracy: 0.4933\n",
            "Epoch 23/100\n",
            "18/18 [==============================] - 1s 35ms/step - loss: 1.6954 - accuracy: 0.4238 - val_loss: 1.4981 - val_accuracy: 0.5200\n",
            "Epoch 24/100\n",
            "18/18 [==============================] - 1s 36ms/step - loss: 1.6467 - accuracy: 0.4503 - val_loss: 1.4734 - val_accuracy: 0.5467\n",
            "Epoch 25/100\n",
            "18/18 [==============================] - 1s 36ms/step - loss: 1.6422 - accuracy: 0.4330 - val_loss: 1.4942 - val_accuracy: 0.4800\n",
            "Epoch 26/100\n",
            "18/18 [==============================] - 1s 37ms/step - loss: 1.5977 - accuracy: 0.4549 - val_loss: 1.4603 - val_accuracy: 0.4800\n",
            "Epoch 27/100\n",
            "18/18 [==============================] - 1s 36ms/step - loss: 1.5393 - accuracy: 0.4810 - val_loss: 1.4287 - val_accuracy: 0.4933\n",
            "Epoch 28/100\n",
            "18/18 [==============================] - 1s 35ms/step - loss: 1.5172 - accuracy: 0.4842 - val_loss: 1.4017 - val_accuracy: 0.4800\n",
            "Epoch 29/100\n",
            "18/18 [==============================] - 1s 36ms/step - loss: 1.4648 - accuracy: 0.4934 - val_loss: 1.4406 - val_accuracy: 0.4667\n",
            "Epoch 30/100\n",
            "18/18 [==============================] - 1s 37ms/step - loss: 1.4030 - accuracy: 0.5222 - val_loss: 1.4539 - val_accuracy: 0.4800\n",
            "Epoch 31/100\n",
            "18/18 [==============================] - 1s 37ms/step - loss: 1.3915 - accuracy: 0.5153 - val_loss: 1.4428 - val_accuracy: 0.4800\n",
            "Epoch 32/100\n",
            "18/18 [==============================] - 1s 39ms/step - loss: 1.3364 - accuracy: 0.5437 - val_loss: 1.3613 - val_accuracy: 0.5600\n",
            "Epoch 33/100\n",
            "18/18 [==============================] - 1s 39ms/step - loss: 1.2930 - accuracy: 0.5561 - val_loss: 1.4346 - val_accuracy: 0.5067\n",
            "Epoch 34/100\n",
            "18/18 [==============================] - 1s 36ms/step - loss: 1.2367 - accuracy: 0.5744 - val_loss: 1.3852 - val_accuracy: 0.4667\n",
            "Epoch 35/100\n",
            "18/18 [==============================] - 1s 36ms/step - loss: 1.1967 - accuracy: 0.5936 - val_loss: 1.3964 - val_accuracy: 0.4933\n",
            "Epoch 36/100\n",
            "18/18 [==============================] - 1s 36ms/step - loss: 1.1631 - accuracy: 0.5936 - val_loss: 1.4392 - val_accuracy: 0.4667\n",
            "Epoch 37/100\n",
            "18/18 [==============================] - 1s 36ms/step - loss: 1.1178 - accuracy: 0.6174 - val_loss: 1.3843 - val_accuracy: 0.5333\n",
            "Epoch 38/100\n",
            "18/18 [==============================] - 1s 36ms/step - loss: 1.0706 - accuracy: 0.6252 - val_loss: 1.3892 - val_accuracy: 0.5467\n",
            "Epoch 39/100\n",
            "18/18 [==============================] - 1s 37ms/step - loss: 1.0200 - accuracy: 0.6384 - val_loss: 1.4181 - val_accuracy: 0.5600\n",
            "Epoch 40/100\n",
            "18/18 [==============================] - 1s 36ms/step - loss: 0.9772 - accuracy: 0.6627 - val_loss: 1.4129 - val_accuracy: 0.5733\n",
            "Epoch 41/100\n",
            "18/18 [==============================] - 1s 36ms/step - loss: 0.9603 - accuracy: 0.6664 - val_loss: 1.4899 - val_accuracy: 0.5467\n",
            "Epoch 42/100\n",
            "18/18 [==============================] - 1s 36ms/step - loss: 0.9356 - accuracy: 0.6860 - val_loss: 1.3606 - val_accuracy: 0.5733\n",
            "Epoch 43/100\n",
            "18/18 [==============================] - 1s 36ms/step - loss: 0.8225 - accuracy: 0.7213 - val_loss: 1.3668 - val_accuracy: 0.5333\n",
            "Epoch 44/100\n",
            "18/18 [==============================] - 1s 36ms/step - loss: 0.7949 - accuracy: 0.7336 - val_loss: 1.4271 - val_accuracy: 0.5200\n",
            "Epoch 45/100\n",
            "18/18 [==============================] - 1s 36ms/step - loss: 0.7430 - accuracy: 0.7410 - val_loss: 1.5054 - val_accuracy: 0.5333\n",
            "Epoch 46/100\n",
            "18/18 [==============================] - 1s 36ms/step - loss: 0.7249 - accuracy: 0.7483 - val_loss: 1.4947 - val_accuracy: 0.5067\n",
            "Epoch 47/100\n",
            "18/18 [==============================] - 1s 37ms/step - loss: 0.6896 - accuracy: 0.7680 - val_loss: 1.5132 - val_accuracy: 0.5600\n",
            "Epoch 48/100\n",
            "18/18 [==============================] - 1s 36ms/step - loss: 0.6281 - accuracy: 0.7670 - val_loss: 1.5076 - val_accuracy: 0.5333\n",
            "Epoch 49/100\n",
            "18/18 [==============================] - 1s 38ms/step - loss: 0.5917 - accuracy: 0.7922 - val_loss: 1.5435 - val_accuracy: 0.5333\n",
            "Epoch 50/100\n",
            "18/18 [==============================] - 1s 37ms/step - loss: 0.5969 - accuracy: 0.7908 - val_loss: 1.5582 - val_accuracy: 0.5733\n",
            "Epoch 51/100\n",
            "18/18 [==============================] - 1s 37ms/step - loss: 0.5707 - accuracy: 0.8064 - val_loss: 1.5583 - val_accuracy: 0.5333\n",
            "Epoch 52/100\n",
            "18/18 [==============================] - 1s 37ms/step - loss: 0.4984 - accuracy: 0.8284 - val_loss: 1.5104 - val_accuracy: 0.5867\n",
            "Epoch 53/100\n",
            "18/18 [==============================] - 1s 36ms/step - loss: 0.4584 - accuracy: 0.8352 - val_loss: 1.5096 - val_accuracy: 0.5467\n",
            "Epoch 54/100\n",
            "18/18 [==============================] - 1s 37ms/step - loss: 0.4599 - accuracy: 0.8481 - val_loss: 1.5902 - val_accuracy: 0.6133\n",
            "Epoch 55/100\n",
            "18/18 [==============================] - 1s 36ms/step - loss: 0.4038 - accuracy: 0.8668 - val_loss: 1.6917 - val_accuracy: 0.5867\n",
            "Epoch 56/100\n",
            "18/18 [==============================] - 1s 36ms/step - loss: 0.3889 - accuracy: 0.8563 - val_loss: 1.7753 - val_accuracy: 0.5733\n",
            "Epoch 57/100\n",
            "18/18 [==============================] - 1s 37ms/step - loss: 0.3601 - accuracy: 0.8764 - val_loss: 1.8213 - val_accuracy: 0.6000\n",
            "Epoch 58/100\n",
            "18/18 [==============================] - 1s 36ms/step - loss: 0.3590 - accuracy: 0.8751 - val_loss: 1.7388 - val_accuracy: 0.5333\n",
            "Epoch 59/100\n",
            "18/18 [==============================] - 1s 36ms/step - loss: 0.3499 - accuracy: 0.8773 - val_loss: 1.7378 - val_accuracy: 0.6400\n",
            "Epoch 60/100\n",
            "18/18 [==============================] - 1s 36ms/step - loss: 0.3519 - accuracy: 0.8751 - val_loss: 1.8198 - val_accuracy: 0.5867\n",
            "Epoch 61/100\n",
            "18/18 [==============================] - 1s 36ms/step - loss: 0.2995 - accuracy: 0.9021 - val_loss: 1.7721 - val_accuracy: 0.5600\n",
            "Epoch 62/100\n",
            "18/18 [==============================] - 1s 36ms/step - loss: 0.3124 - accuracy: 0.8943 - val_loss: 1.8954 - val_accuracy: 0.5733\n",
            "Epoch 63/100\n",
            "18/18 [==============================] - 1s 36ms/step - loss: 0.2959 - accuracy: 0.9048 - val_loss: 1.8931 - val_accuracy: 0.6000\n",
            "Epoch 64/100\n",
            "18/18 [==============================] - 1s 36ms/step - loss: 0.2692 - accuracy: 0.9053 - val_loss: 2.0457 - val_accuracy: 0.5467\n",
            "Epoch 65/100\n",
            "18/18 [==============================] - 1s 36ms/step - loss: 0.2396 - accuracy: 0.9240 - val_loss: 1.9019 - val_accuracy: 0.6533\n",
            "Epoch 66/100\n",
            "18/18 [==============================] - 1s 36ms/step - loss: 0.2444 - accuracy: 0.9172 - val_loss: 2.0591 - val_accuracy: 0.5467\n",
            "Epoch 67/100\n",
            "18/18 [==============================] - 1s 36ms/step - loss: 0.2481 - accuracy: 0.9149 - val_loss: 2.0144 - val_accuracy: 0.5600\n",
            "Epoch 68/100\n",
            "18/18 [==============================] - 1s 37ms/step - loss: 0.2132 - accuracy: 0.9341 - val_loss: 1.9554 - val_accuracy: 0.5600\n",
            "Epoch 69/100\n",
            "18/18 [==============================] - 1s 37ms/step - loss: 0.2310 - accuracy: 0.9213 - val_loss: 1.9884 - val_accuracy: 0.5733\n",
            "Epoch 70/100\n",
            "18/18 [==============================] - 1s 39ms/step - loss: 0.2078 - accuracy: 0.9304 - val_loss: 2.0203 - val_accuracy: 0.5600\n",
            "Epoch 71/100\n",
            "18/18 [==============================] - 1s 41ms/step - loss: 0.1958 - accuracy: 0.9327 - val_loss: 2.1141 - val_accuracy: 0.6000\n",
            "Epoch 72/100\n",
            "18/18 [==============================] - 1s 38ms/step - loss: 0.1916 - accuracy: 0.9396 - val_loss: 2.3015 - val_accuracy: 0.5600\n",
            "Epoch 73/100\n",
            "18/18 [==============================] - 1s 38ms/step - loss: 0.1677 - accuracy: 0.9437 - val_loss: 2.2016 - val_accuracy: 0.5467\n",
            "Epoch 74/100\n",
            "18/18 [==============================] - 1s 38ms/step - loss: 0.2008 - accuracy: 0.9364 - val_loss: 2.2758 - val_accuracy: 0.5467\n",
            "Epoch 75/100\n",
            "18/18 [==============================] - 1s 36ms/step - loss: 0.1811 - accuracy: 0.9346 - val_loss: 2.2909 - val_accuracy: 0.5467\n",
            "Epoch 76/100\n",
            "18/18 [==============================] - 1s 36ms/step - loss: 0.1664 - accuracy: 0.9446 - val_loss: 2.1425 - val_accuracy: 0.6000\n",
            "Epoch 77/100\n",
            "18/18 [==============================] - 1s 36ms/step - loss: 0.1382 - accuracy: 0.9538 - val_loss: 2.2508 - val_accuracy: 0.6000\n",
            "Epoch 78/100\n",
            "18/18 [==============================] - 1s 36ms/step - loss: 0.1421 - accuracy: 0.9497 - val_loss: 2.3431 - val_accuracy: 0.5467\n",
            "Epoch 79/100\n",
            "18/18 [==============================] - 1s 36ms/step - loss: 0.1361 - accuracy: 0.9602 - val_loss: 2.3796 - val_accuracy: 0.5467\n",
            "Epoch 80/100\n",
            "18/18 [==============================] - 1s 36ms/step - loss: 0.1254 - accuracy: 0.9593 - val_loss: 2.1604 - val_accuracy: 0.5200\n",
            "Epoch 81/100\n",
            "18/18 [==============================] - 1s 36ms/step - loss: 0.1180 - accuracy: 0.9638 - val_loss: 2.3474 - val_accuracy: 0.5600\n",
            "Epoch 82/100\n",
            "18/18 [==============================] - 1s 36ms/step - loss: 0.1111 - accuracy: 0.9666 - val_loss: 2.2277 - val_accuracy: 0.5867\n",
            "Epoch 83/100\n",
            "18/18 [==============================] - 1s 37ms/step - loss: 0.1026 - accuracy: 0.9652 - val_loss: 2.1739 - val_accuracy: 0.5600\n",
            "Epoch 84/100\n",
            "18/18 [==============================] - 1s 35ms/step - loss: 0.0923 - accuracy: 0.9735 - val_loss: 2.3776 - val_accuracy: 0.5733\n",
            "Epoch 85/100\n",
            "18/18 [==============================] - 1s 36ms/step - loss: 0.0941 - accuracy: 0.9652 - val_loss: 2.3184 - val_accuracy: 0.6000\n",
            "Epoch 86/100\n",
            "18/18 [==============================] - 1s 36ms/step - loss: 0.1019 - accuracy: 0.9689 - val_loss: 2.4220 - val_accuracy: 0.5733\n",
            "Epoch 87/100\n",
            "18/18 [==============================] - 1s 37ms/step - loss: 0.1326 - accuracy: 0.9556 - val_loss: 2.4468 - val_accuracy: 0.5333\n",
            "Epoch 88/100\n",
            "18/18 [==============================] - 1s 39ms/step - loss: 0.1197 - accuracy: 0.9584 - val_loss: 2.3097 - val_accuracy: 0.5733\n",
            "Epoch 89/100\n",
            "18/18 [==============================] - 1s 38ms/step - loss: 0.0945 - accuracy: 0.9666 - val_loss: 2.1290 - val_accuracy: 0.5600\n",
            "Epoch 90/100\n",
            "18/18 [==============================] - 1s 39ms/step - loss: 0.1066 - accuracy: 0.9680 - val_loss: 2.1389 - val_accuracy: 0.5600\n",
            "Epoch 91/100\n",
            "18/18 [==============================] - 1s 36ms/step - loss: 0.0908 - accuracy: 0.9693 - val_loss: 2.2981 - val_accuracy: 0.5733\n",
            "Epoch 92/100\n",
            "18/18 [==============================] - 1s 36ms/step - loss: 0.0806 - accuracy: 0.9735 - val_loss: 2.3237 - val_accuracy: 0.5467\n",
            "Epoch 93/100\n",
            "18/18 [==============================] - 1s 36ms/step - loss: 0.0740 - accuracy: 0.9794 - val_loss: 2.4302 - val_accuracy: 0.5600\n",
            "Epoch 94/100\n",
            "18/18 [==============================] - 1s 36ms/step - loss: 0.0971 - accuracy: 0.9725 - val_loss: 2.3329 - val_accuracy: 0.5600\n",
            "Epoch 95/100\n",
            "18/18 [==============================] - 1s 36ms/step - loss: 0.0920 - accuracy: 0.9712 - val_loss: 2.4531 - val_accuracy: 0.5333\n",
            "Epoch 96/100\n",
            "18/18 [==============================] - 1s 36ms/step - loss: 0.1004 - accuracy: 0.9725 - val_loss: 2.3694 - val_accuracy: 0.5067\n",
            "Epoch 97/100\n",
            "18/18 [==============================] - 1s 35ms/step - loss: 0.0967 - accuracy: 0.9730 - val_loss: 2.3985 - val_accuracy: 0.5733\n",
            "Epoch 98/100\n",
            "18/18 [==============================] - 1s 36ms/step - loss: 0.0650 - accuracy: 0.9799 - val_loss: 2.4153 - val_accuracy: 0.5467\n",
            "Epoch 99/100\n",
            "18/18 [==============================] - 1s 36ms/step - loss: 0.0623 - accuracy: 0.9817 - val_loss: 2.7721 - val_accuracy: 0.5733\n",
            "Epoch 100/100\n",
            "18/18 [==============================] - 1s 36ms/step - loss: 0.0645 - accuracy: 0.9803 - val_loss: 2.4706 - val_accuracy: 0.5733\n"
          ]
        }
      ]
    },
    {
      "cell_type": "code",
      "source": [
        "from keras.saving.saving_lib import load_model\n",
        "red = keras.models.load_model(\"SpiderClassifier96-73.h5\")"
      ],
      "metadata": {
        "id": "hasAGJGrSYJ5"
      },
      "execution_count": null,
      "outputs": []
    },
    {
      "cell_type": "code",
      "source": [
        "def PredIm(image_name):\n",
        "  image = cv2.imread(image_name)\n",
        "  image = cv2.resize(image, (32,32))\n",
        "  image = np.expand_dims(image,0)\n",
        "  return print(\"It is most likely to be about a:\", dickeys[int(np.argmax(red(image),1))])"
      ],
      "metadata": {
        "id": "0brKXFHeSWGh"
      },
      "execution_count": null,
      "outputs": []
    },
    {
      "cell_type": "code",
      "source": [
        "PredIm(\"viuda10.jpg\")"
      ],
      "metadata": {
        "colab": {
          "base_uri": "https://localhost:8080/"
        },
        "id": "g5_snmhjH4EQ",
        "outputId": "6e9e8883-5fcd-4584-ba6f-9639ee4c59f8"
      },
      "execution_count": null,
      "outputs": [
        {
          "output_type": "stream",
          "name": "stdout",
          "text": [
            "It is most likely to be about a: Golden Orb Weaver\n"
          ]
        }
      ]
    },
    {
      "cell_type": "code",
      "source": [],
      "metadata": {
        "id": "8KnXgtnncS4U"
      },
      "execution_count": null,
      "outputs": []
    }
  ]
}